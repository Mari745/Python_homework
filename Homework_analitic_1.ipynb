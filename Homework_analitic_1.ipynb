{
 "cells": [
  {
   "cell_type": "markdown",
   "id": "36ab2a7c",
   "metadata": {},
   "source": [
    "### Условие 1:\n",
    "Оформляйте ноутбук, используя эти советы:\n",
    "- Номер задачи - заголовок 2\n",
    "- Номер подзадачи - заголовок 3\n",
    "- Предоставленные наборы данных оформляйте, как код\n",
    "Рекомендации для преподавателей по оценке задания:\n",
    "Смотреть, чтобы студент красиво оформлял ноутбук, использовал ячейки с текстом, указывал номера заданий"
   ]
  },
  {
   "cell_type": "code",
   "execution_count": null,
   "id": "533850ca",
   "metadata": {},
   "outputs": [],
   "source": []
  },
  {
   "cell_type": "markdown",
   "id": "05bd313c",
   "metadata": {},
   "source": [
    "### Условие 2:\n",
    "На складе лежат разные фрукты в разном количестве.\n",
    "Нужно написать функцию, которая на вход принимает любое количество названий фруктов и их количество, а возвращает общее количество фруктов на складе"
   ]
  },
  {
   "cell_type": "code",
   "execution_count": 1,
   "id": "d3308bd9",
   "metadata": {},
   "outputs": [],
   "source": [
    "def fruits(**kwargs):\n",
    "    \n",
    "    total_fruits = sum(kwargs.values())\n",
    "    \n",
    "    return total_fruits"
   ]
  },
  {
   "cell_type": "code",
   "execution_count": 2,
   "id": "f1d46b26",
   "metadata": {},
   "outputs": [
    {
     "name": "stdout",
     "output_type": "stream",
     "text": [
      "18\n"
     ]
    }
   ],
   "source": [
    "print(fruits(pineapples=5,bananas=7, pears=6))"
   ]
  },
  {
   "cell_type": "markdown",
   "id": "eda68231",
   "metadata": {},
   "source": [
    "### Условие 3:\n",
    "Дан список с затратами на рекламу. Но в данных есть ошибки, некоторые затраты имеют отрицательную величину. Удалите такие значения из списка и посчитайте суммарные затраты\n",
    "[100, 125, -90, 345, 655, -1, 0, 200]\n",
    "Используйте list comprehensions"
   ]
  },
  {
   "cell_type": "code",
   "execution_count": 3,
   "id": "97d01aea",
   "metadata": {},
   "outputs": [],
   "source": [
    "def expenses(data: list):\n",
    "    \n",
    "    new_data = []\n",
    "    \n",
    "    for i in data:\n",
    "        if i > 0:\n",
    "            new_data.append(i)\n",
    "        else:\n",
    "            new_data.append(0)\n",
    "            \n",
    "    print(new_data)\n",
    "    print(f'Total expenses: {sum(new_data)}')"
   ]
  },
  {
   "cell_type": "code",
   "execution_count": 4,
   "id": "46982c41",
   "metadata": {},
   "outputs": [
    {
     "name": "stdout",
     "output_type": "stream",
     "text": [
      "[100, 125, 0, 345, 655, 0, 0, 200]\n",
      "Total expenses: 1425\n"
     ]
    }
   ],
   "source": [
    "data = [100, 125, -90, 345, 655, -1, 0, 200]\n",
    "\n",
    "expenses(data)"
   ]
  },
  {
   "cell_type": "code",
   "execution_count": 5,
   "id": "353db4fa",
   "metadata": {},
   "outputs": [
    {
     "name": "stdout",
     "output_type": "stream",
     "text": [
      "[100, 125, 0, 345, 655, 0, 0, 200]\n"
     ]
    }
   ],
   "source": [
    "print([i if i > 0 else 0 for i in data])"
   ]
  },
  {
   "cell_type": "code",
   "execution_count": 6,
   "id": "efab0e3e",
   "metadata": {},
   "outputs": [
    {
     "name": "stdout",
     "output_type": "stream",
     "text": [
      "Total expenses: 1425\n"
     ]
    }
   ],
   "source": [
    "print(f'Total expenses: {sum([i if i > 0 else 0 for i in data])}')"
   ]
  },
  {
   "cell_type": "markdown",
   "id": "45a309be",
   "metadata": {},
   "source": [
    "### Условие 4:\n",
    "Даны два списка.\n",
    "- Дата покупки\n",
    "['2021-09-14', '2021-12-15', '2021-09-08', '2021-12-05', '2021-10-09', '2021-09-30', '2021-12-22', '2021-11-29', '2021-12-24', '2021-11-26', '2021-10-27', '2021-12-18', '2021-11-09', '2021-11-23', '2021-09-27', '2021-10-02', '2021-12-27', '2021-09-20', '2021-12-13', '2021-11-01', '2021-11-09', '2021-12-06', '2021-12-08', '2021-10-09', '2021-10-31', '2021-09-30', '2021-11-09', '2021-12-13', '2021-10-26', '2021-12-09']\n",
    "- Суммы покупок по датам\n",
    "[1270, 8413, 9028, 3703, 5739, 4095, 295, 4944, 5723, 3701, 4471, 651, 7037, 4274, 6275, 4988, 6930, 2971, 6592, 2004, 2822, 519, 3406, 2732, 5015, 2008, 316, 6333, 5700, 2887]\n",
    "### Условие 4.1 \n",
    "Найдите, какая выручка у компании в ноябре\n",
    "Используйте list comprehensions"
   ]
  },
  {
   "cell_type": "code",
   "execution_count": 7,
   "id": "ae093e64",
   "metadata": {},
   "outputs": [],
   "source": [
    "date_buy = ['2021-09-14', '2021-12-15', '2021-09-08', '2021-12-05', '2021-10-09', \n",
    "        '2021-09-30', '2021-12-22', '2021-11-29', '2021-12-24', '2021-11-26', \n",
    "        '2021-10-27', '2021-12-18', '2021-11-09', '2021-11-23', '2021-09-27', \n",
    "        '2021-10-02', '2021-12-27', '2021-09-20', '2021-12-13', '2021-11-01', \n",
    "        '2021-11-09', '2021-12-06', '2021-12-08', '2021-10-09', '2021-10-31', \n",
    "        '2021-09-30', '2021-11-09', '2021-12-13', '2021-10-26', '2021-12-09']\n",
    "date_sum = [1270, 8413, 9028, 3703, 5739, 4095, 295, 4944, 5723, 3701, \n",
    "        4471, 651, 7037, 4274, 6275, 4988, 6930, 2971, 6592, 2004, \n",
    "        2822, 519, 3406, 2732, 5015, 2008, 316, 6333, 5700, 2887]"
   ]
  },
  {
   "cell_type": "code",
   "execution_count": 8,
   "id": "65433ca8",
   "metadata": {},
   "outputs": [],
   "source": [
    "def november(data1: list, data2: list) -> dict:\n",
    "    \n",
    "    new_data = []\n",
    "    \n",
    "    for i in range(len(data1)-1):\n",
    "        if '-11-' in data1[i]:\n",
    "            new_data.append(data2[i])\n",
    "            \n",
    "    return new_data"
   ]
  },
  {
   "cell_type": "code",
   "execution_count": 9,
   "id": "74f9bb31",
   "metadata": {},
   "outputs": [
    {
     "name": "stdout",
     "output_type": "stream",
     "text": [
      "[4944, 3701, 7037, 4274, 2004, 2822, 316]\n",
      "Profit: 25098\n"
     ]
    }
   ],
   "source": [
    "print(november(date_buy, date_sum))\n",
    "print(f'Profit: {sum(november(date_buy, date_sum))}')"
   ]
  },
  {
   "cell_type": "code",
   "execution_count": 10,
   "id": "66053ca3",
   "metadata": {},
   "outputs": [
    {
     "name": "stdout",
     "output_type": "stream",
     "text": [
      "[4944, 3701, 7037, 4274, 2004, 2822, 316]\n",
      "Profit: 25098\n"
     ]
    }
   ],
   "source": [
    "print([date_sum[i] for i in range(0, len(date_buy)-1) if \"-11\" in date_buy[i]])\n",
    "print(f'Profit: {sum([date_sum[i] for i in range(len(date_buy)-1) if \"-11\" in date_buy[i]])}')"
   ]
  },
  {
   "cell_type": "markdown",
   "id": "3c36a701",
   "metadata": {},
   "source": [
    "### 4.2 Найдите выручку компании в зависимости от месяца\n",
    "Для этого напишите функцию, которая на вход принимает список с датами и список с выручкой, а на выходе словарь, где ключи - это месяцы, а значения - это выручка.\n",
    "Используйте аннотирование типов."
   ]
  },
  {
   "cell_type": "code",
   "execution_count": 11,
   "id": "3e082541",
   "metadata": {},
   "outputs": [],
   "source": [
    "def profit(data1: list, data2: list) -> dict:\n",
    "    \n",
    "    profit = {}\n",
    "    \n",
    "    for i in range(len(data1)):\n",
    "        \n",
    "        if date_buy[i].split('-')[1] in profit.keys():\n",
    "            profit[date_buy[i].split('-')[1]] += date_sum[i]\n",
    "        else:\n",
    "            profit[date_buy[i].split('-')[1]] = date_sum[i]\n",
    "            \n",
    "    return profit"
   ]
  },
  {
   "cell_type": "code",
   "execution_count": 12,
   "id": "d86475db",
   "metadata": {},
   "outputs": [
    {
     "name": "stdout",
     "output_type": "stream",
     "text": [
      "Profit: {'09': 25647, '12': 45452, '10': 28645, '11': 25098}\n"
     ]
    }
   ],
   "source": [
    "print(f'Profit: {profit(date_buy, date_sum)}')"
   ]
  },
  {
   "cell_type": "code",
   "execution_count": null,
   "id": "6c58a85a",
   "metadata": {},
   "outputs": [],
   "source": []
  }
 ],
 "metadata": {
  "kernelspec": {
   "display_name": "Python 3 (ipykernel)",
   "language": "python",
   "name": "python3"
  },
  "language_info": {
   "codemirror_mode": {
    "name": "ipython",
    "version": 3
   },
   "file_extension": ".py",
   "mimetype": "text/x-python",
   "name": "python",
   "nbconvert_exporter": "python",
   "pygments_lexer": "ipython3",
   "version": "3.10.9"
  }
 },
 "nbformat": 4,
 "nbformat_minor": 5
}
